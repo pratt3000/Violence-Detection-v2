{
 "cells": [
  {
   "cell_type": "code",
   "execution_count": 92,
   "metadata": {},
   "outputs": [],
   "source": [
    "import cv2\n",
    "import os\n",
    "import numpy as np\n",
    "import keras\n",
    "import matplotlib.pyplot as plt\n",
    "import download\n",
    "from random import shuffle\n",
    "from keras.applications import VGG16\n",
    "from keras import backend as K\n",
    "from keras.models import Model, Sequential\n",
    "from keras.layers import Input\n",
    "from keras.layers import LSTM\n",
    "from keras.layers import Dense, Activation\n",
    "import sys\n",
    "import h5py\n",
    "import time\n",
    "import tensorflow as tf"
   ]
  },
  {
   "cell_type": "code",
   "execution_count": 54,
   "metadata": {},
   "outputs": [],
   "source": [
    "\n",
    "def get_frames(current_dir, file_name, c):\n",
    "    \n",
    "    in_file = os.path.join(current_dir, file_name)\n",
    "    \n",
    "    images = []\n",
    "    \n",
    "    vidcap = cv2.VideoCapture(in_file)\n",
    "\n",
    "    while(c):\n",
    "        success,image = vidcap.read()\n",
    "        c -= 1\n",
    "        \n",
    "    count = 0\n",
    "\n",
    "    while count<_images_per_file:\n",
    "                \n",
    "        \n",
    "        success, image = vidcap.read()\n",
    "\n",
    "        if success == False:\n",
    "            image = np.zeros((224,224,3)) #padding\n",
    "\n",
    "        RGB_img = cv2.cvtColor(image, cv2.COLOR_BGR2RGB)\n",
    "    \n",
    "        res = cv2.resize(RGB_img, dsize=(img_size, img_size),\n",
    "                                 interpolation=cv2.INTER_CUBIC)\n",
    "    \n",
    "        images.append(res)\n",
    "    \n",
    "        count += 1\n",
    "        \n",
    "    resul = np.array(images)\n",
    "    \n",
    "    resul = (resul / 255.).astype(np.float16)\n",
    "        \n",
    "    return resul"
   ]
  },
  {
   "cell_type": "code",
   "execution_count": 55,
   "metadata": {},
   "outputs": [],
   "source": [
    "def get_transfer_values(current_dir, file_name):\n",
    "    \n",
    "    # Pre-allocate input-batch-array for images.\n",
    "    shape = (_images_per_file,) + img_size_touple + (3,)\n",
    "    \n",
    "    image_batch = np.zeros(shape=shape, dtype=np.float16)\n",
    "    \n",
    "    image_batch = get_frames(current_dir, file_name)\n",
    "      \n",
    "    # Pre-allocate output-array for transfer-values.\n",
    "    # Note that we use 16-bit floating-points to save memory.\n",
    "    shape = (_images_per_file, transfer_values_size)\n",
    "    transfer_values = np.zeros(shape=shape, dtype=np.float16)\n",
    "\n",
    "    transfer_values =  image_model_transfer.predict(image_batch)\n",
    "    #print(transfer_values.shape)\n",
    "    return transfer_values"
   ]
  },
  {
   "cell_type": "code",
   "execution_count": 75,
   "metadata": {},
   "outputs": [
    {
     "output_type": "execute_result",
     "data": {
      "text/plain": "[0, 1]"
     },
     "metadata": {},
     "execution_count": 75
    }
   ],
   "source": [
    "names_training[1]\n",
    "labels_training[1]"
   ]
  },
  {
   "cell_type": "code",
   "execution_count": 93,
   "metadata": {},
   "outputs": [],
   "source": [
    "def proces_transfer(vid_names, labels):\n",
    "    \n",
    "    count = 0\n",
    "    count_i = 0\n",
    "    tam = len(vid_names)\n",
    "    #print(\"tam =\", tam)\n",
    "    image_bitches = []\n",
    "    # Pre-allocate input-batch-array for images.\n",
    "    shape = (_images_per_file,) + img_size_touple + (3,)\n",
    "    final_labels = []\n",
    "    start = time.time()\n",
    "    while count<tam:\n",
    "        print(count, \" = \", time.time()-start)\n",
    "        video_name = vid_names[count]\n",
    "        label_n = labels[count]\n",
    "        if label_n[0]==1:\n",
    "            path = os.path.join(dir_fight,video_name)\n",
    "        else:\n",
    "            path = os.path.join(dir_not_fight, video_name)\n",
    "\n",
    "        vidcap = cv2.VideoCapture(path)\n",
    "        tam_i = int(vidcap.get(cv2.CAP_PROP_FRAME_COUNT))\n",
    "        print(\"frames =\",tam_i)  #---- correct till here\n",
    "\n",
    "        if labels[count][0]==0:\n",
    "            in_dir= dir_not_fight\n",
    "        else:\n",
    "            in_dir= dir_fight\n",
    "        print(in_dir)\n",
    "        image_batches = []\n",
    "        #print(shape)  2, 224, 224, 3\n",
    "        count_i=0\n",
    "        while count_i<40: #no of frames make it uniform\n",
    "            image_batch = np.zeros(shape=shape, dtype=np.float16)\n",
    "            image_batch = get_frames(in_dir, video_name, count_i)\n",
    "            #print(np.array(image_batch).shape)\n",
    "            count_i += 2\n",
    "            image_batches.append(image_batch)\n",
    "        print(np.array(image_batches).shape)\n",
    "        image_bitches.append(image_batches)\n",
    "        image_bitches = np.array(image_bitches)\n",
    "        print(image_bitches.shape) #wrong shape \n",
    "        # Note that we use 16-bit floating-points to save memory.\n",
    "\n",
    "        shape = (image_bitches.shape[0]*image_bitches.shape[1], image_bitches.shape[2], transfer_values_size)\n",
    "        transfer_values = np.zeros(shape=shape, dtype=np.float16)\n",
    "\n",
    "        transfer_values =  image_model_transfer.predict(image_batch)\n",
    "         \n",
    "        labels1 = labels[count]\n",
    "        \n",
    "        aux = np.ones([image_bitches.shape[1],2])\n",
    "        image_bitches = image_bitches.tolist()\n",
    "        labelss = labels1*aux\n",
    "        final_labels.append(labelss)\n",
    "    \n",
    "        ##############################################################\n",
    "        #yield transfer_values, labelss\n",
    "        ##############################################################\n",
    "        count+=1\n",
    "    print(np.array(image_bitches).shape)\n",
    "    print(np.array(final_labels).shape)\n",
    "    final_labels = final_labels.reshape([final_labels[0]*final_labels[1], final_labels[2]])\n",
    "    return final_labels, image_bitches"
   ]
  },
  {
   "cell_type": "code",
   "execution_count": 82,
   "metadata": {},
   "outputs": [],
   "source": [
    "import random\n",
    "\n",
    "\n",
    "dir_fight=\"/kaggle/input/violence-final/fight/\"\n",
    "dir_not_fight=\"/kaggle/input/violence-final/not_fight/\"\n",
    "list_fight=os.listdir(dir_fight)\n",
    "list_no_fight=os.listdir(dir_not_fight)\n",
    "\n",
    "\n",
    "fight_final=random.sample(list_fight, 800)\n",
    "no_fight_final=random.sample(list_no_fight,800)\n",
    "\n",
    "\n",
    "fight_labels = []\n",
    "no_fight_labels = []\n",
    "for i in range (800):\n",
    "    fight_labels.append([1,0])\n",
    "    no_fight_labels.append([0,1])\n",
    "\n",
    "\n",
    "\n",
    "final = fight_final + no_fight_final\n",
    "labels = fight_labels + no_fight_labels"
   ]
  },
  {
   "cell_type": "code",
   "execution_count": 7,
   "metadata": {},
   "outputs": [],
   "source": [
    "c = list(zip(final,labels))\n",
    "shuffle(c)\n",
    "    \n",
    "names, labels = zip(*c)"
   ]
  },
  {
   "cell_type": "code",
   "execution_count": 8,
   "metadata": {},
   "outputs": [
    {
     "output_type": "stream",
     "name": "stdout",
     "text": "Downloading data from https://storage.googleapis.com/tensorflow/keras-applications/vgg16/vgg16_weights_tf_dim_ordering_tf_kernels.h5\n553467904/553467096 [==============================] - 7s 0us/step\n"
    }
   ],
   "source": [
    "\n",
    "# Frame size  \n",
    "img_size = 224\n",
    "\n",
    "img_size_touple = (img_size, img_size)\n",
    "\n",
    "# Number of channels (RGB)\n",
    "num_channels = 3\n",
    "\n",
    "# Flat frame size\n",
    "img_size_flat = img_size * img_size * num_channels\n",
    "\n",
    "# Number of classes for classification (Violence-No Violence)\n",
    "num_classes = 2\n",
    "\n",
    "# Number of files to train\n",
    "_num_files_train = 1\n",
    "\n",
    "# Number of frames per video\n",
    "_images_per_file = 2\n",
    "\n",
    "# Number of frames per training set\n",
    "_num_images_train = _num_files_train * _images_per_file\n",
    "\n",
    "image_model = VGG16(include_top=True, weights='imagenet')"
   ]
  },
  {
   "cell_type": "code",
   "execution_count": 9,
   "metadata": {},
   "outputs": [
    {
     "output_type": "stream",
     "name": "stdout",
     "text": "[]\n"
    }
   ],
   "source": [
    "input_shape = image_model.layers[0].output_shape[1:3]\n",
    "print(input_shape)"
   ]
  },
  {
   "cell_type": "code",
   "execution_count": 10,
   "metadata": {},
   "outputs": [],
   "source": [
    "\n",
    "\n",
    "# We will use the output of the layer prior to the final\n",
    "# classification-layer which is named fc2. This is a fully-connected (or dense) layer.\n",
    "transfer_layer = image_model.get_layer('fc2')\n",
    "\n",
    "image_model_transfer = Model(inputs=image_model.input,\n",
    "                             outputs=transfer_layer.output)\n",
    "\n",
    "transfer_values_size = K.int_shape(transfer_layer.output)[1]\n",
    "\n",
    "\n",
    "#print(\"The input of the VGG16 net have dimensions:\",K.int_shape(image_model.input)[1:3])\n",
    "\n",
    "#print(\"The output of the selecter layer of VGG16 net have dimensions: \", transfer_values_size)"
   ]
  },
  {
   "cell_type": "code",
   "execution_count": 24,
   "metadata": {
    "tags": [
     "outputPrepend"
    ]
   },
   "outputs": [],
   "source": [
    "\n",
    "\n",
    "\n",
    "training_set = int(len(names)*0.8)\n",
    "test_set = int(len(names)*0.2)\n",
    "\n",
    "names_training = names[0:training_set]\n",
    "names_test = names[training_set:]\n",
    "\n",
    "labels_training = labels[0:training_set]\n",
    "labels_test = labels[training_set:]\n",
    "\n",
    "#correct\n"
   ]
  },
  {
   "cell_type": "code",
   "execution_count": 94,
   "metadata": {},
   "outputs": [
    {
     "output_type": "stream",
     "name": "stdout",
     "text": "0  =  1.1920928955078125e-06\nframes = 110\n/kaggle/input/violence-final/not_fight/\n(20, 2, 224, 224, 3)\n(1, 20, 2, 224, 224, 3)\n1  =  0.9608745574951172\nframes = 240\n/kaggle/input/violence-final/not_fight/\n(20, 2, 224, 224, 3)\n(2, 20, 2, 224, 224, 3)\n2  =  10.3272066116333\nframes = 41\n/kaggle/input/violence-final/fight/\n(20, 2, 224, 224, 3)\n(3, 20, 2, 224, 224, 3)\n3  =  24.397820711135864\nframes = 41\n/kaggle/input/violence-final/fight/\n(20, 2, 224, 224, 3)\n(4, 20, 2, 224, 224, 3)\n4  =  43.00046133995056\nframes = 42\n/kaggle/input/violence-final/fight/\n(20, 2, 224, 224, 3)\n(5, 20, 2, 224, 224, 3)\n5  =  67.86196064949036\nframes = 250\n/kaggle/input/violence-final/not_fight/\n(20, 2, 224, 224, 3)\n(6, 20, 2, 224, 224, 3)\n6  =  93.10362410545349\nframes = 225\n/kaggle/input/violence-final/fight/\n(20, 2, 224, 224, 3)\n(7, 20, 2, 224, 224, 3)\n7  =  120.20131492614746\nframes = 98\n/kaggle/input/violence-final/not_fight/\n(20, 2, 224, 224, 3)\n(8, 20, 2, 224, 224, 3)\n8  =  154.30611515045166\nframes = 257\n/kaggle/input/violence-final/fight/\n(20, 2, 224, 224, 3)\n(9, 20, 2, 224, 224, 3)\n9  =  187.8968367576599\nframes = 242\n/kaggle/input/violence-final/not_fight/\n(20, 2, 224, 224, 3)\n(10, 20, 2, 224, 224, 3)\n10  =  229.66951060295105\nframes = 50\n/kaggle/input/violence-final/fight/\n(20, 2, 224, 224, 3)\n(11, 20, 2, 224, 224, 3)\n11  =  274.88644790649414\nframes = 170\n/kaggle/input/violence-final/not_fight/\n(20, 2, 224, 224, 3)\n(12, 20, 2, 224, 224, 3)\n12  =  322.5408592224121\nframes = 41\n/kaggle/input/violence-final/fight/\n(20, 2, 224, 224, 3)\n(13, 20, 2, 224, 224, 3)\n13  =  376.82091879844666\nframes = 41\n/kaggle/input/violence-final/fight/\n(20, 2, 224, 224, 3)\n(14, 20, 2, 224, 224, 3)\n14  =  428.83217883110046\nframes = 125\n/kaggle/input/violence-final/not_fight/\n(20, 2, 224, 224, 3)\n(15, 20, 2, 224, 224, 3)\n15  =  488.06447434425354\nframes = 41\n/kaggle/input/violence-final/fight/\n(20, 2, 224, 224, 3)\n(16, 20, 2, 224, 224, 3)\n16  =  552.2058928012848\nframes = 212\n/kaggle/input/violence-final/not_fight/\n(20, 2, 224, 224, 3)\n(17, 20, 2, 224, 224, 3)\n17  =  614.0358300209045\nframes = 180\n/kaggle/input/violence-final/fight/\n(20, 2, 224, 224, 3)\n(18, 20, 2, 224, 224, 3)\n18  =  684.9157972335815\nframes = 231\n/kaggle/input/violence-final/fight/\n(20, 2, 224, 224, 3)\n(19, 20, 2, 224, 224, 3)\n19  =  755.918158531189\nframes = 95\n/kaggle/input/violence-final/not_fight/\n(20, 2, 224, 224, 3)\n(20, 20, 2, 224, 224, 3)\n20  =  837.0348582267761\nframes = 136\n/kaggle/input/violence-final/not_fight/\n(20, 2, 224, 224, 3)\n"
    }
   ],
   "source": [
    "gpu_id = 0\n",
    "\n",
    "with tf.device(tf.DeviceSpec(device_type=\"GPU\", device_index=gpu_id)):\n",
    "    frames, labels = proces_transfer(names_training, labels_training)\n",
    "    frames_t, labels_t = proces_transfer(names_test, labels_test)\n",
    "    \n",
    "frames = frames.reshape([frames.shape[1], frames.shape[0], frames.shape[2], frames.shape[3], frames.shape[4]])\n",
    "frames_t = frames_t.reshape([frames_t.shape[1], frames_t.shape[0], frames_t.shape[2], frames_t.shape[3], frames_t.shape[4]])"
   ]
  },
  {
   "cell_type": "code",
   "execution_count": null,
   "metadata": {},
   "outputs": [],
   "source": [
    "chunk_size = 4096\n",
    "#n_chunks = 20\n",
    "rnn_size = 512"
   ]
  },
  {
   "cell_type": "code",
   "execution_count": null,
   "metadata": {},
   "outputs": [],
   "source": [
    "model1 = Sequential()\n",
    "input_1 = tf.keras.layers.Input(shape=(1, 4096))\n",
    "conv2d_1 = tf.keras.layers.Conv2D(32, kernel_size=3, activation=tf.keras.activations.relu)(input_1)\n",
    "pool1 = tf.keras.layers.MaxPool2D(pool_size=(2, 2), strides=None, padding='valid', data_format=None, **kwargs)(conv2d_1)"
   ]
  },
  {
   "cell_type": "code",
   "execution_count": null,
   "metadata": {},
   "outputs": [],
   "source": [
    "\n",
    "\n",
    "\n",
    "model2 = Sequential()\n",
    "input_2 = tf.keras.layers.Input(shape=(1, 4096))\n",
    "conv2d_2 = tf.keras.layers.Conv2D(32, kernel_size = 3, activation=tf.keras.activations.relu)(input_2)\n",
    "pool2 = tf.keras.layers.MaxPool2D(pool_size=(2, 2), strides=None, padding='valid', data_format=None, **kwargs)(conv2d_2)"
   ]
  },
  {
   "cell_type": "code",
   "execution_count": null,
   "metadata": {},
   "outputs": [],
   "source": [
    "\n",
    "\n",
    "model = keras.layers.concatenate([model1, model2])\n",
    "FC1 = Dense(1024, activation='relu')(model)\n",
    "lstm_layer = LSTM(rnn_size)(FC1)\n",
    "output = tf.keras.layers.Dense(units=2,\n",
    "                               activation=tf.keras.activations.softmax)(lstm_layer)"
   ]
  },
  {
   "cell_type": "code",
   "execution_count": null,
   "metadata": {},
   "outputs": [],
   "source": [
    "\n",
    "model.compile(loss='categorical_crossentropy', optimizer='adam',metrics=['accuracy'])\n",
    "full_model = tf.keras.Model(inputs = [model1, model2], outputs=[output])\n",
    "print(full_model.summary())"
   ]
  },
  {
   "cell_type": "code",
   "execution_count": null,
   "metadata": {},
   "outputs": [],
   "source": [
    "\n",
    "epoch = 200\n",
    "batchS = 500\n",
    "\n",
    "history = full_model.fit(inputs = [frames[1], frames[2]], outputs = [labels], epochs=epoch,\n",
    "                    validation_data=([frames_t[1],frames_t[2]], [labels_t]), \n",
    "                    batch_size=batchS, verbose=2)"
   ]
  },
  {
   "cell_type": "code",
   "execution_count": null,
   "metadata": {},
   "outputs": [],
   "source": [
    "result = full_model.evaluate(np.array(data_test), np.array(target_test))\n"
   ]
  },
  {
   "cell_type": "code",
   "execution_count": null,
   "metadata": {},
   "outputs": [],
   "source": [
    "\n",
    "for name, value in zip(model.metrics_names, result):\n",
    "    print(name, value)"
   ]
  },
  {
   "cell_type": "code",
   "execution_count": null,
   "metadata": {},
   "outputs": [],
   "source": [
    "\n",
    "\n",
    "\n",
    "out_dir = '/kaggle/working/'\n",
    "\n",
    "model_json = full_model.to_json()\n",
    "with open(os.path.join(out_dir,'model1.json'), \"w\") as json_file:\n",
    "    json_file.write(model_json)\n",
    "\n",
    "# SAVE MODEL WEIGHTS\n",
    "full_model.save_weights(os.path.join(out_dir,'model1.h5'))\n",
    "full_model.save_weights(os.path.join('model1.h5'))\n"
   ]
  },
  {
   "cell_type": "code",
   "execution_count": null,
   "metadata": {},
   "outputs": [],
   "source": []
  }
 ],
 "metadata": {
  "language_info": {
   "codemirror_mode": {
    "name": "ipython",
    "version": 3
   },
   "file_extension": ".py",
   "mimetype": "text/x-python",
   "name": "python",
   "nbconvert_exporter": "python",
   "pygments_lexer": "ipython3",
   "version": "3.7.6-final"
  },
  "orig_nbformat": 2,
  "kernelspec": {
   "name": "python37664bitcondavirtualenv8d33aa96284c4754a5b4b78526f456ad",
   "display_name": "Python 3.7.6 64-bit ('conda': virtualenv)"
  }
 },
 "nbformat": 4,
 "nbformat_minor": 2
}