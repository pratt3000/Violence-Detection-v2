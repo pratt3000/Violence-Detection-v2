{
 "metadata": {
  "language_info": {
   "codemirror_mode": {
    "name": "ipython",
    "version": 3
   },
   "file_extension": ".py",
   "mimetype": "text/x-python",
   "name": "python",
   "nbconvert_exporter": "python",
   "pygments_lexer": "ipython3",
   "version": "3.8.3-final"
  },
  "orig_nbformat": 2,
  "kernelspec": {
   "name": "python_defaultSpec_1600767970776",
   "display_name": "Python 3.8.3 64-bit ('base': conda)"
  }
 },
 "nbformat": 4,
 "nbformat_minor": 2,
 "cells": [
  {
   "cell_type": "code",
   "execution_count": 8,
   "metadata": {},
   "outputs": [],
   "source": [
    "import cv2\n",
    "import os\n",
    "import numpy as np\n",
    "import matplotlib.pyplot as plt\n",
    "import pickle\n",
    "\n",
    "# Para descargar los datasets\n",
    "import download\n",
    "\n",
    "from random import shuffle\n",
    "from multiprocessing import Queue\n",
    "\n",
    "from keras.applications import VGG16\n",
    "\n",
    "from keras import backend as K\n",
    "from keras.models import Model, Sequential, model_from_json\n",
    "from keras.layers import Input\n",
    "from keras.layers import LSTM\n",
    "from keras.layers import Dense, Activation\n",
    "import sys\n",
    "\n",
    "import h5py\n",
    "\n",
    "json_file = open('model.json', 'r')\n",
    "loaded_model_json = json_file.read()\n",
    "json_file.close()\n",
    "loaded_model = model_from_json(loaded_model_json)\n",
    "loaded_model.load_weights(\"final_weight.h5\")\n",
    "\n",
    "img_size = 224\n",
    "img_size_touple = (img_size, img_size)\n",
    "num_channels = 3\n",
    "img_size_flat = img_size * img_size * num_channels\n",
    "num_classes = 2\n",
    "_num_files_train = 1\n",
    "_images_per_file = 20\n",
    "_num_images_train = _num_files_train * _images_per_file\n",
    "video_exts = \".avi\"\n",
    "\n",
    "\n",
    "\n",
    "\n"
   ]
  },
  {
   "cell_type": "code",
   "execution_count": 14,
   "metadata": {},
   "outputs": [
    {
     "output_type": "execute_result",
     "data": {
      "text/plain": "(224, 224, 3)"
     },
     "metadata": {},
     "execution_count": 14
    }
   ],
   "source": [
    "\n",
    "images = np.zeros((20,224,224,3))\n",
    "\n",
    "\n",
    "image = cv2.imread(\"1.jpg\")\n",
    "\n",
    "RGB_img = cv2.cvtColor(image, cv2.COLOR_BGR2RGB)\n",
    "img = cv2.resize(RGB_img, dsize=(img_size, img_size),interpolation=cv2.INTER_CUBIC)\n",
    "img = np.array(img)\n",
    "img = (img / 255.).astype(np.float16)\n",
    "\n",
    "for i in range(0, 19):\n",
    "    images[i]=images[i+1]\n",
    "images[19]=img\n",
    "\n",
    "return images"
   ]
  },
  {
   "cell_type": "code",
   "execution_count": 19,
   "metadata": {},
   "outputs": [],
   "source": [
    "for i in range(0, 19):\n",
    "    images[i]=images[i+1]\n",
    "images[19]=img\n",
    "\n"
   ]
  },
  {
   "cell_type": "code",
   "execution_count": 20,
   "metadata": {},
   "outputs": [
    {
     "output_type": "execute_result",
     "data": {
      "text/plain": "(20, 224, 224, 3)"
     },
     "metadata": {},
     "execution_count": 20
    }
   ],
   "source": [
    "images.shape"
   ]
  },
  {
   "cell_type": "code",
   "execution_count": 21,
   "metadata": {},
   "outputs": [
    {
     "output_type": "execute_result",
     "data": {
      "text/plain": "array([[[[0.        , 0.        , 0.        ],\n         [0.        , 0.        , 0.        ],\n         [0.        , 0.        , 0.        ],\n         ...,\n         [0.        , 0.        , 0.        ],\n         [0.        , 0.        , 0.        ],\n         [0.        , 0.        , 0.        ]],\n\n        [[0.        , 0.        , 0.        ],\n         [0.        , 0.        , 0.        ],\n         [0.        , 0.        , 0.        ],\n         ...,\n         [0.        , 0.        , 0.        ],\n         [0.        , 0.        , 0.        ],\n         [0.        , 0.        , 0.        ]],\n\n        [[0.        , 0.        , 0.        ],\n         [0.        , 0.        , 0.        ],\n         [0.        , 0.        , 0.        ],\n         ...,\n         [0.        , 0.        , 0.        ],\n         [0.        , 0.        , 0.        ],\n         [0.        , 0.        , 0.        ]],\n\n        ...,\n\n        [[0.        , 0.        , 0.        ],\n         [0.        , 0.        , 0.        ],\n         [0.        , 0.        , 0.        ],\n         ...,\n         [0.        , 0.        , 0.        ],\n         [0.        , 0.        , 0.        ],\n         [0.        , 0.        , 0.        ]],\n\n        [[0.        , 0.        , 0.        ],\n         [0.        , 0.        , 0.        ],\n         [0.        , 0.        , 0.        ],\n         ...,\n         [0.        , 0.        , 0.        ],\n         [0.        , 0.        , 0.        ],\n         [0.        , 0.        , 0.        ]],\n\n        [[0.        , 0.        , 0.        ],\n         [0.        , 0.        , 0.        ],\n         [0.        , 0.        , 0.        ],\n         ...,\n         [0.        , 0.        , 0.        ],\n         [0.        , 0.        , 0.        ],\n         [0.        , 0.        , 0.        ]]],\n\n\n       [[[0.        , 0.        , 0.        ],\n         [0.        , 0.        , 0.        ],\n         [0.        , 0.        , 0.        ],\n         ...,\n         [0.        , 0.        , 0.        ],\n         [0.        , 0.        , 0.        ],\n         [0.        , 0.        , 0.        ]],\n\n        [[0.        , 0.        , 0.        ],\n         [0.        , 0.        , 0.        ],\n         [0.        , 0.        , 0.        ],\n         ...,\n         [0.        , 0.        , 0.        ],\n         [0.        , 0.        , 0.        ],\n         [0.        , 0.        , 0.        ]],\n\n        [[0.        , 0.        , 0.        ],\n         [0.        , 0.        , 0.        ],\n         [0.        , 0.        , 0.        ],\n         ...,\n         [0.        , 0.        , 0.        ],\n         [0.        , 0.        , 0.        ],\n         [0.        , 0.        , 0.        ]],\n\n        ...,\n\n        [[0.        , 0.        , 0.        ],\n         [0.        , 0.        , 0.        ],\n         [0.        , 0.        , 0.        ],\n         ...,\n         [0.        , 0.        , 0.        ],\n         [0.        , 0.        , 0.        ],\n         [0.        , 0.        , 0.        ]],\n\n        [[0.        , 0.        , 0.        ],\n         [0.        , 0.        , 0.        ],\n         [0.        , 0.        , 0.        ],\n         ...,\n         [0.        , 0.        , 0.        ],\n         [0.        , 0.        , 0.        ],\n         [0.        , 0.        , 0.        ]],\n\n        [[0.        , 0.        , 0.        ],\n         [0.        , 0.        , 0.        ],\n         [0.        , 0.        , 0.        ],\n         ...,\n         [0.        , 0.        , 0.        ],\n         [0.        , 0.        , 0.        ],\n         [0.        , 0.        , 0.        ]]],\n\n\n       [[[0.        , 0.        , 0.        ],\n         [0.        , 0.        , 0.        ],\n         [0.        , 0.        , 0.        ],\n         ...,\n         [0.        , 0.        , 0.        ],\n         [0.        , 0.        , 0.        ],\n         [0.        , 0.        , 0.        ]],\n\n        [[0.        , 0.        , 0.        ],\n         [0.        , 0.        , 0.        ],\n         [0.        , 0.        , 0.        ],\n         ...,\n         [0.        , 0.        , 0.        ],\n         [0.        , 0.        , 0.        ],\n         [0.        , 0.        , 0.        ]],\n\n        [[0.        , 0.        , 0.        ],\n         [0.        , 0.        , 0.        ],\n         [0.        , 0.        , 0.        ],\n         ...,\n         [0.        , 0.        , 0.        ],\n         [0.        , 0.        , 0.        ],\n         [0.        , 0.        , 0.        ]],\n\n        ...,\n\n        [[0.        , 0.        , 0.        ],\n         [0.        , 0.        , 0.        ],\n         [0.        , 0.        , 0.        ],\n         ...,\n         [0.        , 0.        , 0.        ],\n         [0.        , 0.        , 0.        ],\n         [0.        , 0.        , 0.        ]],\n\n        [[0.        , 0.        , 0.        ],\n         [0.        , 0.        , 0.        ],\n         [0.        , 0.        , 0.        ],\n         ...,\n         [0.        , 0.        , 0.        ],\n         [0.        , 0.        , 0.        ],\n         [0.        , 0.        , 0.        ]],\n\n        [[0.        , 0.        , 0.        ],\n         [0.        , 0.        , 0.        ],\n         [0.        , 0.        , 0.        ],\n         ...,\n         [0.        , 0.        , 0.        ],\n         [0.        , 0.        , 0.        ],\n         [0.        , 0.        , 0.        ]]],\n\n\n       ...,\n\n\n       [[[0.54101562, 0.32543945, 0.2824707 ],\n         [0.59619141, 0.2824707 , 0.26269531],\n         [0.58447266, 0.24316406, 0.21960449],\n         ...,\n         [0.68212891, 0.68603516, 0.63916016],\n         [0.65478516, 0.67431641, 0.64697266],\n         [0.69042969, 0.68212891, 0.63525391]],\n\n        [[0.56054688, 0.2902832 , 0.24316406],\n         [0.57666016, 0.24707031, 0.22351074],\n         [0.58056641, 0.23535156, 0.22741699],\n         ...,\n         [0.71777344, 0.66259766, 0.64306641],\n         [0.69824219, 0.65087891, 0.64697266],\n         [0.77246094, 0.70214844, 0.67431641]],\n\n        [[0.61572266, 0.28637695, 0.24707031],\n         [0.60009766, 0.24707031, 0.23925781],\n         [0.60009766, 0.24316406, 0.24316406],\n         ...,\n         [0.71777344, 0.65087891, 0.63916016],\n         [0.73730469, 0.66650391, 0.66259766],\n         [0.78808594, 0.69042969, 0.68212891]],\n\n        ...,\n\n        [[0.49023438, 0.30981445, 0.31762695],\n         [0.48632812, 0.33325195, 0.35693359],\n         [0.34912109, 0.21569824, 0.3215332 ],\n         ...,\n         [0.45092773, 0.41577148, 0.44311523],\n         [0.45483398, 0.40380859, 0.43139648],\n         [0.44311523, 0.37646484, 0.38818359]],\n\n        [[0.39990234, 0.20788574, 0.21960449],\n         [0.46655273, 0.30981445, 0.30200195],\n         [0.39208984, 0.27832031, 0.3293457 ],\n         ...,\n         [0.43530273, 0.40795898, 0.43530273],\n         [0.45874023, 0.41577148, 0.43920898],\n         [0.45483398, 0.38818359, 0.41186523]],\n\n        [[0.35302734, 0.1529541 , 0.1607666 ],\n         [0.31762695, 0.13330078, 0.13330078],\n         [0.39599609, 0.26660156, 0.27441406],\n         ...,\n         [0.43530273, 0.41577148, 0.43920898],\n         [0.41967773, 0.38037109, 0.41186523],\n         [0.44311523, 0.39208984, 0.42749023]]],\n\n\n       [[[0.54101562, 0.32543945, 0.2824707 ],\n         [0.59619141, 0.2824707 , 0.26269531],\n         [0.58447266, 0.24316406, 0.21960449],\n         ...,\n         [0.68212891, 0.68603516, 0.63916016],\n         [0.65478516, 0.67431641, 0.64697266],\n         [0.69042969, 0.68212891, 0.63525391]],\n\n        [[0.56054688, 0.2902832 , 0.24316406],\n         [0.57666016, 0.24707031, 0.22351074],\n         [0.58056641, 0.23535156, 0.22741699],\n         ...,\n         [0.71777344, 0.66259766, 0.64306641],\n         [0.69824219, 0.65087891, 0.64697266],\n         [0.77246094, 0.70214844, 0.67431641]],\n\n        [[0.61572266, 0.28637695, 0.24707031],\n         [0.60009766, 0.24707031, 0.23925781],\n         [0.60009766, 0.24316406, 0.24316406],\n         ...,\n         [0.71777344, 0.65087891, 0.63916016],\n         [0.73730469, 0.66650391, 0.66259766],\n         [0.78808594, 0.69042969, 0.68212891]],\n\n        ...,\n\n        [[0.49023438, 0.30981445, 0.31762695],\n         [0.48632812, 0.33325195, 0.35693359],\n         [0.34912109, 0.21569824, 0.3215332 ],\n         ...,\n         [0.45092773, 0.41577148, 0.44311523],\n         [0.45483398, 0.40380859, 0.43139648],\n         [0.44311523, 0.37646484, 0.38818359]],\n\n        [[0.39990234, 0.20788574, 0.21960449],\n         [0.46655273, 0.30981445, 0.30200195],\n         [0.39208984, 0.27832031, 0.3293457 ],\n         ...,\n         [0.43530273, 0.40795898, 0.43530273],\n         [0.45874023, 0.41577148, 0.43920898],\n         [0.45483398, 0.38818359, 0.41186523]],\n\n        [[0.35302734, 0.1529541 , 0.1607666 ],\n         [0.31762695, 0.13330078, 0.13330078],\n         [0.39599609, 0.26660156, 0.27441406],\n         ...,\n         [0.43530273, 0.41577148, 0.43920898],\n         [0.41967773, 0.38037109, 0.41186523],\n         [0.44311523, 0.39208984, 0.42749023]]],\n\n\n       [[[0.54101562, 0.32543945, 0.2824707 ],\n         [0.59619141, 0.2824707 , 0.26269531],\n         [0.58447266, 0.24316406, 0.21960449],\n         ...,\n         [0.68212891, 0.68603516, 0.63916016],\n         [0.65478516, 0.67431641, 0.64697266],\n         [0.69042969, 0.68212891, 0.63525391]],\n\n        [[0.56054688, 0.2902832 , 0.24316406],\n         [0.57666016, 0.24707031, 0.22351074],\n         [0.58056641, 0.23535156, 0.22741699],\n         ...,\n         [0.71777344, 0.66259766, 0.64306641],\n         [0.69824219, 0.65087891, 0.64697266],\n         [0.77246094, 0.70214844, 0.67431641]],\n\n        [[0.61572266, 0.28637695, 0.24707031],\n         [0.60009766, 0.24707031, 0.23925781],\n         [0.60009766, 0.24316406, 0.24316406],\n         ...,\n         [0.71777344, 0.65087891, 0.63916016],\n         [0.73730469, 0.66650391, 0.66259766],\n         [0.78808594, 0.69042969, 0.68212891]],\n\n        ...,\n\n        [[0.49023438, 0.30981445, 0.31762695],\n         [0.48632812, 0.33325195, 0.35693359],\n         [0.34912109, 0.21569824, 0.3215332 ],\n         ...,\n         [0.45092773, 0.41577148, 0.44311523],\n         [0.45483398, 0.40380859, 0.43139648],\n         [0.44311523, 0.37646484, 0.38818359]],\n\n        [[0.39990234, 0.20788574, 0.21960449],\n         [0.46655273, 0.30981445, 0.30200195],\n         [0.39208984, 0.27832031, 0.3293457 ],\n         ...,\n         [0.43530273, 0.40795898, 0.43530273],\n         [0.45874023, 0.41577148, 0.43920898],\n         [0.45483398, 0.38818359, 0.41186523]],\n\n        [[0.35302734, 0.1529541 , 0.1607666 ],\n         [0.31762695, 0.13330078, 0.13330078],\n         [0.39599609, 0.26660156, 0.27441406],\n         ...,\n         [0.43530273, 0.41577148, 0.43920898],\n         [0.41967773, 0.38037109, 0.41186523],\n         [0.44311523, 0.39208984, 0.42749023]]]])"
     },
     "metadata": {},
     "execution_count": 21
    }
   ],
   "source": [
    "images"
   ]
  },
  {
   "cell_type": "code",
   "execution_count": 2,
   "metadata": {
    "tags": []
   },
   "outputs": [
    {
     "output_type": "stream",
     "name": "stdout",
     "text": "cpu\n"
    }
   ],
   "source": [
    "import torch\n",
    "import torchvision\n",
    "import torchvision.transforms as transforms\n",
    "import torch.optim as optim\n",
    "import time\n",
    "import torch.nn.functional as F\n",
    "import torch.nn as nn\n",
    "import matplotlib.pyplot as plt\n",
    "\n",
    "from torchvision import models\n",
    "\n",
    "device = torch.device(\"cuda:0\" if torch.cuda.is_available() else \"cpu\")\n",
    "print(device)"
   ]
  },
  {
   "cell_type": "code",
   "execution_count": 3,
   "metadata": {},
   "outputs": [
    {
     "output_type": "error",
     "ename": "NameError",
     "evalue": "name 'trainset' is not defined",
     "traceback": [
      "\u001b[0;31m---------------------------------------------------------------------------\u001b[0m",
      "\u001b[0;31mNameError\u001b[0m                                 Traceback (most recent call last)",
      "\u001b[0;32m<ipython-input-3-49ac1f65b259>\u001b[0m in \u001b[0;36m<module>\u001b[0;34m\u001b[0m\n\u001b[0;32m----> 1\u001b[0;31m trainloader = torch.utils.data.DataLoader(trainset, batch_size=32,\n\u001b[0m\u001b[1;32m      2\u001b[0m                                           shuffle=True)\n\u001b[1;32m      3\u001b[0m \u001b[0;31m#convert images\u001b[0m\u001b[0;34m\u001b[0m\u001b[0;34m\u001b[0m\u001b[0;34m\u001b[0m\u001b[0m\n",
      "\u001b[0;31mNameError\u001b[0m: name 'trainset' is not defined"
     ]
    }
   ],
   "source": [
    "trainloader = torch.utils.data.DataLoader(trainset, batch_size=32,\n",
    "                                          shuffle=True)\n",
    "#convert images "
   ]
  },
  {
   "cell_type": "code",
   "execution_count": 4,
   "metadata": {
    "tags": []
   },
   "outputs": [
    {
     "output_type": "stream",
     "name": "stderr",
     "text": "Downloading: \"https://download.pytorch.org/models/vgg16-397923af.pth\" to /home/pratt3000/.cache/torch/hub/checkpoints/vgg16-397923af.pth\n100%|██████████| 528M/528M [04:41<00:00, 1.96MB/s]\n"
    },
    {
     "output_type": "execute_result",
     "data": {
      "text/plain": "VGG(\n  (features): Sequential(\n    (0): Conv2d(3, 64, kernel_size=(3, 3), stride=(1, 1), padding=(1, 1))\n    (1): ReLU(inplace=True)\n    (2): Conv2d(64, 64, kernel_size=(3, 3), stride=(1, 1), padding=(1, 1))\n    (3): ReLU(inplace=True)\n    (4): MaxPool2d(kernel_size=2, stride=2, padding=0, dilation=1, ceil_mode=False)\n    (5): Conv2d(64, 128, kernel_size=(3, 3), stride=(1, 1), padding=(1, 1))\n    (6): ReLU(inplace=True)\n    (7): Conv2d(128, 128, kernel_size=(3, 3), stride=(1, 1), padding=(1, 1))\n    (8): ReLU(inplace=True)\n    (9): MaxPool2d(kernel_size=2, stride=2, padding=0, dilation=1, ceil_mode=False)\n    (10): Conv2d(128, 256, kernel_size=(3, 3), stride=(1, 1), padding=(1, 1))\n    (11): ReLU(inplace=True)\n    (12): Conv2d(256, 256, kernel_size=(3, 3), stride=(1, 1), padding=(1, 1))\n    (13): ReLU(inplace=True)\n    (14): Conv2d(256, 256, kernel_size=(3, 3), stride=(1, 1), padding=(1, 1))\n    (15): ReLU(inplace=True)\n    (16): MaxPool2d(kernel_size=2, stride=2, padding=0, dilation=1, ceil_mode=False)\n    (17): Conv2d(256, 512, kernel_size=(3, 3), stride=(1, 1), padding=(1, 1))\n    (18): ReLU(inplace=True)\n    (19): Conv2d(512, 512, kernel_size=(3, 3), stride=(1, 1), padding=(1, 1))\n    (20): ReLU(inplace=True)\n    (21): Conv2d(512, 512, kernel_size=(3, 3), stride=(1, 1), padding=(1, 1))\n    (22): ReLU(inplace=True)\n    (23): MaxPool2d(kernel_size=2, stride=2, padding=0, dilation=1, ceil_mode=False)\n    (24): Conv2d(512, 512, kernel_size=(3, 3), stride=(1, 1), padding=(1, 1))\n    (25): ReLU(inplace=True)\n    (26): Conv2d(512, 512, kernel_size=(3, 3), stride=(1, 1), padding=(1, 1))\n    (27): ReLU(inplace=True)\n    (28): Conv2d(512, 512, kernel_size=(3, 3), stride=(1, 1), padding=(1, 1))\n    (29): ReLU(inplace=True)\n    (30): MaxPool2d(kernel_size=2, stride=2, padding=0, dilation=1, ceil_mode=False)\n  )\n  (avgpool): AdaptiveAvgPool2d(output_size=(7, 7))\n  (classifier): Sequential(\n    (0): Linear(in_features=25088, out_features=4096, bias=True)\n    (1): ReLU(inplace=True)\n    (2): Dropout(p=0.5, inplace=False)\n    (3): Linear(in_features=4096, out_features=4096, bias=True)\n    (4): ReLU(inplace=True)\n    (5): Dropout(p=0.5, inplace=False)\n    (6): Linear(in_features=4096, out_features=1000, bias=True)\n  )\n)"
     },
     "metadata": {},
     "execution_count": 4
    }
   ],
   "source": []
  },
  {
   "cell_type": "code",
   "execution_count": 5,
   "metadata": {},
   "outputs": [],
   "source": [
    "vgg16 = models.vgg16(pretrained=True)\n",
    "vgg16.to(device)\n",
    "\n",
    "vgg16.classifier[6].out_features = 4096\n",
    "# freeze convolution weights\n",
    "for param in vgg16.features.parameters():\n",
    "    param.requires_grad = False\n",
    "\n",
    "value = torch.from_numpy(images)\n",
    "test_value = Variable(value.cuda())\n",
    "prediction = model(test_value)\n"
   ]
  },
  {
   "cell_type": "code",
   "execution_count": 6,
   "metadata": {},
   "outputs": [
    {
     "output_type": "error",
     "ename": "NameError",
     "evalue": "name 'model' is not defined",
     "traceback": [
      "\u001b[0;31m---------------------------------------------------------------------------\u001b[0m",
      "\u001b[0;31mNameError\u001b[0m                                 Traceback (most recent call last)",
      "\u001b[0;32m<ipython-input-6-10d6f1d9cee6>\u001b[0m in \u001b[0;36m<module>\u001b[0;34m\u001b[0m\n\u001b[0;32m----> 1\u001b[0;31m \u001b[0mmodel\u001b[0m\u001b[0;34m.\u001b[0m\u001b[0meval\u001b[0m\u001b[0;34m(\u001b[0m\u001b[0;34m)\u001b[0m\u001b[0;34m\u001b[0m\u001b[0;34m\u001b[0m\u001b[0m\n\u001b[0m\u001b[1;32m      2\u001b[0m \u001b[0mval_running_loss\u001b[0m \u001b[0;34m=\u001b[0m \u001b[0;36m0.0\u001b[0m\u001b[0;34m\u001b[0m\u001b[0;34m\u001b[0m\u001b[0m\n\u001b[1;32m      3\u001b[0m \u001b[0mval_running_correct\u001b[0m \u001b[0;34m=\u001b[0m \u001b[0;36m0\u001b[0m\u001b[0;34m\u001b[0m\u001b[0;34m\u001b[0m\u001b[0m\n\u001b[1;32m      4\u001b[0m \u001b[0;32mfor\u001b[0m \u001b[0mint\u001b[0m\u001b[0;34m,\u001b[0m \u001b[0mdata\u001b[0m \u001b[0;32min\u001b[0m \u001b[0menumerate\u001b[0m\u001b[0;34m(\u001b[0m\u001b[0mtest_dataloader\u001b[0m\u001b[0;34m)\u001b[0m\u001b[0;34m:\u001b[0m\u001b[0;34m\u001b[0m\u001b[0;34m\u001b[0m\u001b[0m\n\u001b[1;32m      5\u001b[0m     \u001b[0mdata\u001b[0m\u001b[0;34m,\u001b[0m \u001b[0mtarget\u001b[0m \u001b[0;34m=\u001b[0m \u001b[0mdata\u001b[0m\u001b[0;34m[\u001b[0m\u001b[0;36m0\u001b[0m\u001b[0;34m]\u001b[0m\u001b[0;34m.\u001b[0m\u001b[0mto\u001b[0m\u001b[0;34m(\u001b[0m\u001b[0mdevice\u001b[0m\u001b[0;34m)\u001b[0m\u001b[0;34m,\u001b[0m \u001b[0mdata\u001b[0m\u001b[0;34m[\u001b[0m\u001b[0;36m1\u001b[0m\u001b[0;34m]\u001b[0m\u001b[0;34m.\u001b[0m\u001b[0mto\u001b[0m\u001b[0;34m(\u001b[0m\u001b[0mdevice\u001b[0m\u001b[0;34m)\u001b[0m\u001b[0;34m\u001b[0m\u001b[0;34m\u001b[0m\u001b[0m\n",
      "\u001b[0;31mNameError\u001b[0m: name 'model' is not defined"
     ]
    }
   ],
   "source": [
    "model.eval()\n",
    "val_running_loss = 0.0\n",
    "val_running_correct = 0\n",
    "for int, data in enumerate(test_dataloader):\n",
    "    data, target = data[0].to(device), data[1].to(device)\n",
    "    output = model(data)\n",
    "    loss = criterion(output, target)\n",
    "    \n",
    "    val_running_loss += loss.item()\n",
    "    _, preds = torch.max(output.data, 1)\n",
    "    val_running_correct += (preds == target).sum().item()\n",
    "\n",
    "val_loss = val_running_loss/len(test_dataloader.dataset)\n",
    "val_accuracy = 100. * val_running_correct/len(test_dataloader.dataset)"
   ]
  },
  {
   "cell_type": "code",
   "execution_count": 17,
   "metadata": {},
   "outputs": [],
   "source": [
    "\n"
   ]
  },
  {
   "cell_type": "code",
   "execution_count": 29,
   "metadata": {
    "tags": []
   },
   "outputs": [],
   "source": [
    "import cv2\n",
    "\n",
    "answer = [0,0,0,0,0,0,0,1,1,1,1,1,1,1,1,1,1]\n",
    "\n",
    "font = cv2.FONT_HERSHEY_SIMPLEX \n",
    "file_name = \"2.avi\"\n",
    "img_size = 224\n",
    "vidcap = cv2.VideoCapture(file_name)\n",
    "flag = True\n",
    "frame_width = int(vidcap.get(3)) \n",
    "frame_height = int(vidcap.get(4)) \n",
    "   \n",
    "size = (frame_width, frame_height)\n",
    "result = cv2.VideoWriter('tp1.avi',  \n",
    "                         cv2.VideoWriter_fourcc(*'MJPG'), \n",
    "                         10, size) \n",
    "\n",
    "for i in range(len(answer)):\n",
    "    if answer[i]==1:\n",
    "        for i in range(0,20):\n",
    "            success,frame = vidcap.read()\n",
    "            if success==False:\n",
    "                flag = False\n",
    "                break\n",
    "            \n",
    "            cv2.putText(frame,'VIOLENCE', (50, 50), font, 1, (0, 255, 255), 2, cv2.LINE_4)\n",
    "            result.write(frame) \n",
    "    else:\n",
    "        for i in range(0,20):\n",
    "            success,frame = vidcap.read()\n",
    "            if success==False:\n",
    "                flag = False\n",
    "                break\n",
    "            \n",
    "            cv2.putText(frame,'NON VIOLENCE', (50, 50), font, 1, (0, 255, 255), 2, cv2.LINE_4)\n",
    "            result.write(frame) \n",
    "\n",
    "    if flag == False:\n",
    "        break\n",
    "result.release()\n",
    "            "
   ]
  },
  {
   "cell_type": "code",
   "execution_count": null,
   "metadata": {},
   "outputs": [],
   "source": []
  }
 ]
}